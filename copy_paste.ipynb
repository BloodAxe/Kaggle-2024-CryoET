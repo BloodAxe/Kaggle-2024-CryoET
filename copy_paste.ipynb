{
 "cells": [
  {
   "metadata": {},
   "cell_type": "code",
   "source": [
    "import cv2\n",
    "import matplotlib.pyplot as plt\n",
    "import numpy as np\n",
    "\n",
    "from cryoet.data.functional import normalize_volume_to_unit_range\n",
    "from cryoet.data.parsers import get_volume_and_objects, read_annotated_volume\n",
    "from cryoet.data.parsers import visualize_slices_grid\n"
   ],
   "id": "7d28965ad47e6ff2",
   "outputs": [],
   "execution_count": null
  },
  {
   "metadata": {},
   "cell_type": "code",
   "source": [
    "root = \"./data/czii-cryo-et-object-identification\"\n",
    "\n",
    "mode = \"denoised\""
   ],
   "id": "bb40d48f2cc62f8",
   "outputs": [],
   "execution_count": null
  },
  {
   "metadata": {},
   "cell_type": "code",
   "source": [
    "sample1 = read_annotated_volume(root, \"TS_5_4\", mode)\n",
    "sample2 = read_annotated_volume(root, \"TS_6_4\", mode)\n"
   ],
   "id": "75bd9f44b36d345a",
   "outputs": [],
   "execution_count": null
  },
  {
   "metadata": {},
   "cell_type": "code",
   "source": "# fig",
   "id": "ef2b2a4a3b1e5d42",
   "outputs": [],
   "execution_count": null
  },
  {
   "metadata": {},
   "cell_type": "code",
   "source": "from cryoet.data.augmentations.functional import copy_paste_augmentation",
   "id": "908a7499ac2ca50b",
   "outputs": [],
   "execution_count": null
  },
  {
   "metadata": {},
   "cell_type": "code",
   "source": [
    "def compute_weighted_matrix(volume, sigma=5.0):\n",
    "    \"\"\"\n",
    "    Compute dx, dy, dz derivatives for volume2 and apply them to volume1.\n",
    "    \"\"\"\n",
    "    # Merge two volumes using weighted sum where weight computed as 3d gaussian with a peak in the center\n",
    "\n",
    "    # Compute the distance from the center of the volume\n",
    "    center = np.array(volume.shape) / 2\n",
    "\n",
    "    i = np.arange(volume.shape[0])\n",
    "    j = np.arange(volume.shape[1])\n",
    "    k = np.arange(volume.shape[2])\n",
    "\n",
    "    I, J, K = np.meshgrid(i, j, k, indexing=\"ij\")\n",
    "    distances = np.sqrt((I - center[0]) ** 2 + (J - center[1]) ** 2 + (K - center[2]) ** 2)\n",
    "\n",
    "    # Compute the weight\n",
    "    weight = np.exp(-distances / (sigma**2))\n",
    "    mask = distances < sigma * 0.8\n",
    "    weight[mask] = 1.0\n",
    "    weight[~mask] -= weight[~mask].min()\n",
    "    weight[~mask] /= weight[~mask].max()\n",
    "    return weight"
   ],
   "id": "66a4d40a7f0f2d96",
   "outputs": [],
   "execution_count": null
  },
  {
   "metadata": {},
   "cell_type": "code",
   "source": [
    "weight = compute_weighted_matrix(np.zeros((31,31,31)), sigma=15)\n",
    "\n",
    "f, ax = plt.subplots(1,4, figsize=(20,5))\n",
    "ax[0].imshow(weight[0])\n",
    "ax[1].imshow(weight[5])\n",
    "ax[2].imshow(weight[10])\n",
    "ax[3].imshow(weight[15])\n",
    "f"
   ],
   "id": "1f06ab7954c4e4a7",
   "outputs": [],
   "execution_count": null
  },
  {
   "metadata": {},
   "cell_type": "code",
   "source": "weight[0].max()",
   "id": "821d2fcd369aad29",
   "outputs": [],
   "execution_count": null
  },
  {
   "metadata": {},
   "cell_type": "code",
   "source": "weight[15]",
   "id": "9fe30a18cc16f8f",
   "outputs": [],
   "execution_count": null
  },
  {
   "metadata": {},
   "cell_type": "code",
   "source": [
    "from cryoet.data.augmentations.copy_paste_merge import merge_volume_using_weighted_sum\n",
    "\n",
    "# data = dict(\n",
    "#     volume=np.zeros((64,128,128)),\n",
    "#     centers=np.empty((0,3)),\n",
    "#     radius=np.empty((0,)),\n",
    "#     labels=np.empty((0,)),\n",
    "# )\n",
    "\n",
    "data = dict(\n",
    "    volume=sample1.volume,\n",
    "    centers=sample1.centers_px,\n",
    "    radius=sample1.radius_px,\n",
    "    labels=sample1.labels,\n",
    ")\n",
    "\n",
    "for _ in range(4):\n",
    "    data = copy_paste_augmentation(\n",
    "        **data,\n",
    "        samples=[sample2],\n",
    "        scale=1.0,\n",
    "        z_rotation_limit=5,\n",
    "        x_rotation_limit=0,\n",
    "        y_rotation_limit=0,\n",
    "        merge_method=merge_volume_using_weighted_sum,\n",
    "    )\n"
   ],
   "id": "5b14d0480ed49164",
   "outputs": [],
   "execution_count": null
  },
  {
   "metadata": {},
   "cell_type": "code",
   "source": [
    "fig = visualize_slices_grid(\n",
    "    **data,\n",
    "    slices_to_show=None,\n",
    "    only_slices_with_objects=True,\n",
    "    voxel_size=1.0,\n",
    "    ncols=4,\n",
    ")\n",
    "fig.show()"
   ],
   "id": "6a92e76fdc7467c0",
   "outputs": [],
   "execution_count": null
  },
  {
   "metadata": {},
   "cell_type": "code",
   "source": "",
   "id": "8d1cd8706e0d4964",
   "outputs": [],
   "execution_count": null
  },
  {
   "metadata": {},
   "cell_type": "code",
   "source": "",
   "id": "3e1e9a30ff33256",
   "outputs": [],
   "execution_count": null
  }
 ],
 "metadata": {
  "kernelspec": {
   "name": "python3",
   "language": "python",
   "display_name": "Python 3 (ipykernel)"
  }
 },
 "nbformat": 5,
 "nbformat_minor": 9
}
