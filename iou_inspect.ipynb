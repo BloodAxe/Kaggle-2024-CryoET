{
 "cells": [
  {
   "cell_type": "code",
   "id": "initial_id",
   "metadata": {
    "collapsed": true,
    "ExecuteTime": {
     "end_time": "2025-01-11T20:58:02.658171Z",
     "start_time": "2025-01-11T20:58:02.642514Z"
    }
   },
   "source": "from cryoet.data.parsers import read_annotated_volume,AnnotatedVolume",
   "outputs": [],
   "execution_count": 31
  },
  {
   "metadata": {
    "ExecuteTime": {
     "end_time": "2025-01-11T20:58:02.736906Z",
     "start_time": "2025-01-11T20:58:02.721166Z"
    }
   },
   "cell_type": "code",
   "source": [
    "from pathlib import Path\n",
    "\n",
    "root = Path(\"./data/czii-cryo-et-object-identification\")"
   ],
   "id": "b6b1c01a68c11af7",
   "outputs": [],
   "execution_count": 32
  },
  {
   "metadata": {
    "ExecuteTime": {
     "end_time": "2025-01-11T20:58:02.755714Z",
     "start_time": "2025-01-11T20:58:02.740064Z"
    }
   },
   "cell_type": "code",
   "source": [
    "import os\n",
    "\n",
    "studies = list(sorted(os.listdir(str(root / \"train\" / \"static\" / \"ExperimentRuns\"))))\n",
    "studies"
   ],
   "id": "b13f947e20d9ec11",
   "outputs": [
    {
     "data": {
      "text/plain": [
       "['TS_5_4', 'TS_69_2', 'TS_6_4', 'TS_6_6', 'TS_73_6', 'TS_86_3', 'TS_99_9']"
      ]
     },
     "execution_count": 33,
     "metadata": {},
     "output_type": "execute_result"
    }
   ],
   "execution_count": 33
  },
  {
   "metadata": {
    "ExecuteTime": {
     "end_time": "2025-01-11T20:58:08.097266Z",
     "start_time": "2025-01-11T20:58:02.818732Z"
    }
   },
   "cell_type": "code",
   "source": [
    "from cryoet.modelling.detection.task_aligned_assigner import batch_pairwise_keypoints_iou\n",
    "import torch\n",
    "import numpy as np\n",
    "\n",
    "\n",
    "for study in studies:\n",
    "    volume:AnnotatedVolume = read_annotated_volume(root, study, \"denoised\", \"train\")\n",
    "\n",
    "    print(\"Study\", study)\n",
    "    for label in range(5):\n",
    "        mask = volume.labels == label\n",
    "        centers = volume.centers_px[mask]\n",
    "        radius = volume.radius_px[mask]\n",
    "\n",
    "        iou = batch_pairwise_keypoints_iou(\n",
    "            torch.from_numpy(centers).reshape(1, -1, 3),\n",
    "            torch.from_numpy(centers).reshape(1, -1, 3),\n",
    "            torch.from_numpy(radius).reshape(1, -1),\n",
    "        )\n",
    "        iou = torch.triu(iou, diagonal=1).numpy()\n",
    "        num_pts_09 = np.count_nonzero(iou > 0.9)\n",
    "        num_pts_08 = np.count_nonzero(iou > 0.8)\n",
    "        num_pts_07 = np.count_nonzero(iou > 0.7)\n",
    "        num_pts_06 = np.count_nonzero(iou > 0.6)\n",
    "        num_pts_05 = np.count_nonzero(iou > 0.5)\n",
    "        num_pts_04 = np.count_nonzero(iou > 0.4)\n",
    "        num_pts_03 = np.count_nonzero(iou > 0.3)\n",
    "        print(\"Class\",label,\"count\", len(centers), \"max iou\", np.max(iou), num_pts_09, num_pts_08, num_pts_07, num_pts_06, num_pts_05, num_pts_04, num_pts_03)\n"
   ],
   "id": "95e1c635abecff2f",
   "outputs": [
    {
     "name": "stdout",
     "output_type": "stream",
     "text": [
      "Study TS_5_4\n",
      "Class 0 count 46 max iou 0.00925955 0 0 0 0 0 0 0\n",
      "Class 1 count 12 max iou 0.0 0 0 0 0 0 0 0\n",
      "Class 2 count 31 max iou 0.0050319806 0 0 0 0 0 0 0\n",
      "Class 3 count 30 max iou 2.2954087e-07 0 0 0 0 0 0 0\n",
      "Class 4 count 11 max iou 6.9190344e-12 0 0 0 0 0 0 0\n",
      "Study TS_69_2\n",
      "Class 0 count 35 max iou 0.0024312306 0 0 0 0 0 0 0\n",
      "Class 1 count 16 max iou 0.00028190788 0 0 0 0 0 0 0\n",
      "Class 2 count 37 max iou 0.0029439435 0 0 0 0 0 0 0\n",
      "Class 3 count 34 max iou 0.0037026969 0 0 0 0 0 0 0\n",
      "Class 4 count 9 max iou 1.6088895e-22 0 0 0 0 0 0 0\n",
      "Study TS_6_4\n",
      "Class 0 count 58 max iou 0.008145844 0 0 0 0 0 0 0\n",
      "Class 1 count 12 max iou 0.0 0 0 0 0 0 0 0\n",
      "Class 2 count 74 max iou 0.013049108 0 0 0 0 0 0 0\n",
      "Class 3 count 30 max iou 4.253324e-05 0 0 0 0 0 0 0\n",
      "Class 4 count 10 max iou 5.9321117e-30 0 0 0 0 0 0 0\n",
      "Study TS_6_6\n",
      "Class 0 count 41 max iou 0.006525668 0 0 0 0 0 0 0\n",
      "Class 1 count 11 max iou 1.3574081e-36 0 0 0 0 0 0 0\n",
      "Class 2 count 23 max iou 0.0042687217 0 0 0 0 0 0 0\n",
      "Class 3 count 35 max iou 1.7366655e-07 0 0 0 0 0 0 0\n",
      "Class 4 count 19 max iou 1.5691703e-06 0 0 0 0 0 0 0\n",
      "Study TS_73_6\n",
      "Class 0 count 95 max iou 0.61578023 0 0 0 1 1 1 1\n",
      "Class 1 count 14 max iou 0.0006297022 0 0 0 0 0 0 0\n",
      "Class 2 count 46 max iou 0.005469998 0 0 0 0 0 0 0\n",
      "Class 3 count 28 max iou 7.5597484e-07 0 0 0 0 0 0 0\n",
      "Class 4 count 22 max iou 0.00042524908 0 0 0 0 0 0 0\n",
      "Study TS_86_3\n",
      "Class 0 count 64 max iou 0.0063371086 0 0 0 0 0 0 0\n",
      "Class 1 count 23 max iou 2.8464833e-17 0 0 0 0 0 0 0\n",
      "Class 2 count 55 max iou 0.020816376 0 0 0 0 0 0 0\n",
      "Class 3 count 45 max iou 0.00019333069 0 0 0 0 0 0 0\n",
      "Class 4 count 29 max iou 3.3985614e-06 0 0 0 0 0 0 0\n",
      "Study TS_99_9\n",
      "Class 0 count 36 max iou 0.00054653466 0 0 0 0 0 0 0\n",
      "Class 1 count 24 max iou 2.6358767e-14 0 0 0 0 0 0 0\n",
      "Class 2 count 65 max iou 0.014563789 0 0 0 0 0 0 0\n",
      "Class 3 count 49 max iou 0.009108368 0 0 0 0 0 0 0\n",
      "Class 4 count 13 max iou 6.861456e-13 0 0 0 0 0 0 0\n"
     ]
    }
   ],
   "execution_count": 34
  },
  {
   "metadata": {
    "ExecuteTime": {
     "end_time": "2025-01-11T20:58:08.159779Z",
     "start_time": "2025-01-11T20:58:08.144161Z"
    }
   },
   "cell_type": "code",
   "source": "",
   "id": "69db981cca00acc3",
   "outputs": [],
   "execution_count": null
  }
 ],
 "metadata": {
  "kernelspec": {
   "display_name": "Python 3",
   "language": "python",
   "name": "python3"
  },
  "language_info": {
   "codemirror_mode": {
    "name": "ipython",
    "version": 2
   },
   "file_extension": ".py",
   "mimetype": "text/x-python",
   "name": "python",
   "nbconvert_exporter": "python",
   "pygments_lexer": "ipython2",
   "version": "2.7.6"
  }
 },
 "nbformat": 4,
 "nbformat_minor": 5
}
